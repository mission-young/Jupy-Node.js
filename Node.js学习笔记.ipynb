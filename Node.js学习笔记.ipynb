{
 "cells": [
  {
   "cell_type": "code",
   "execution_count": 1,
   "metadata": {},
   "outputs": [
    {
     "name": "stdout",
     "output_type": "stream",
     "text": [
      "Hello World\n"
     ]
    }
   ],
   "source": [
    "console.log(\"Hello World\")"
   ]
  },
  {
   "cell_type": "markdown",
   "metadata": {},
   "source": [
    "## 创建应用"
   ]
  },
  {
   "cell_type": "code",
   "execution_count": 1,
   "metadata": {},
   "outputs": [
    {
     "name": "stdout",
     "output_type": "stream",
     "text": [
      "Server running at http://222.29.111.28:10001\n"
     ]
    }
   ],
   "source": [
    "var http=require(\"http\");\n",
    "http.createServer(function(request,response){\n",
    "    response.writeHead(200,{'Content-Type':'text/plain'});\n",
    "    response.end('Hello world\\n');\n",
    "}).listen(10001);\n",
    "\n",
    "console.log('Server running at http://222.29.111.28:10001');"
   ]
  },
  {
   "cell_type": "code",
   "execution_count": null,
   "metadata": {},
   "outputs": [],
   "source": []
  },
  {
   "cell_type": "markdown",
   "metadata": {},
   "source": [
    "[演示](http://www.runoob.com/wp-content/uploads/2014/03/node-hello.gif)"
   ]
  },
  {
   "cell_type": "code",
   "execution_count": 3,
   "metadata": {},
   "outputs": [
    {
     "name": "stdout",
     "output_type": "stream",
     "text": [
      "连接成功。\n",
      "数据接收成功。\n",
      "程序执行完毕。\n"
     ]
    }
   ],
   "source": [
    "// 引入 events 模块\n",
    "var events = require('events');\n",
    "// 创建 eventEmitter 对象\n",
    "var eventEmitter = new events.EventEmitter();\n",
    "\n",
    "// 创建事件处理程序\n",
    "var connectHandler = function connected() {\n",
    "   console.log('连接成功。');\n",
    "  \n",
    "   // 触发 data_received 事件 \n",
    "   eventEmitter.emit('data_received');\n",
    "}\n",
    "\n",
    "// 绑定 connection 事件处理程序\n",
    "eventEmitter.on('connection', connectHandler);\n",
    " \n",
    "// 使用匿名函数绑定 data_received 事件\n",
    "eventEmitter.on('data_received', function(){\n",
    "   console.log('数据接收成功。');\n",
    "});\n",
    "\n",
    "// 触发 connection 事件 \n",
    "eventEmitter.emit('connection');\n",
    "\n",
    "console.log(\"程序执行完毕。\");"
   ]
  },
  {
   "cell_type": "markdown",
   "metadata": {},
   "source": [
    "EventEmitter().on() 绑定信号和槽。"
   ]
  },
  {
   "cell_type": "markdown",
   "metadata": {},
   "source": [
    "## EventEmitter的用法"
   ]
  },
  {
   "cell_type": "code",
   "execution_count": 10,
   "metadata": {
    "collapsed": true
   },
   "outputs": [
    {
     "data": {
      "text/plain": [
       "Timeout {\n",
       "  _called: false,\n",
       "  _idleTimeout: 1000,\n",
       "  _idlePrev: \n",
       "   TimersList {\n",
       "     _idleNext: [Circular],\n",
       "     _idlePrev: [Circular],\n",
       "     _unrefed: false,\n",
       "     msecs: 1000,\n",
       "     nextTick: false,\n",
       "     _timer: Timer { _list: [Circular] } },\n",
       "  _idleNext: \n",
       "   TimersList {\n",
       "     _idleNext: [Circular],\n",
       "     _idlePrev: [Circular],\n",
       "     _unrefed: false,\n",
       "     msecs: 1000,\n",
       "     nextTick: false,\n",
       "     _timer: Timer { _list: [Circular] } },\n",
       "  _idleStart: 205166,\n",
       "  _onTimeout: [Function],\n",
       "  _timerArgs: undefined,\n",
       "  _repeat: null,\n",
       "  _destroyed: false,\n",
       "  [Symbol(asyncId)]: 74,\n",
       "  [Symbol(triggerAsyncId)]: 71 }"
      ]
     },
     "execution_count": 10,
     "metadata": {},
     "output_type": "execute_result"
    },
    {
     "name": "stdout",
     "output_type": "stream",
     "text": [
      "some_event 事件触发\n"
     ]
    }
   ],
   "source": [
    "var event = require('events');\n",
    "var EventEmitter=new event.EventEmitter(); \n",
    "EventEmitter.on('some_event', function() { \n",
    "    console.log('some_event 事件触发'); \n",
    "}); \n",
    "setTimeout(function() { \n",
    "    EventEmitter.emit('some_event'); \n",
    "}, 1000); "
   ]
  },
  {
   "cell_type": "markdown",
   "metadata": {},
   "source": [
    "* eventemitter为event事件的监视器。用on命令进行信号与槽的绑定。"
   ]
  },
  {
   "cell_type": "markdown",
   "metadata": {},
   "source": [
    "## 多监视器事件"
   ]
  },
  {
   "cell_type": "code",
   "execution_count": 12,
   "metadata": {},
   "outputs": [
    {
     "name": "stdout",
     "output_type": "stream",
     "text": [
      "listener1 arg1 参数 arg2 参数\n",
      "listener2 arg1 参数 arg2 参数\n"
     ]
    },
    {
     "data": {
      "text/plain": [
       "true"
      ]
     },
     "execution_count": 12,
     "metadata": {},
     "output_type": "execute_result"
    }
   ],
   "source": [
    "var events = require('events'); \n",
    "var emitter = new events.EventEmitter(); \n",
    "emitter.on('someEvent', function(arg1, arg2) { \n",
    "    console.log('listener1', arg1, arg2); \n",
    "}); \n",
    "emitter.on('someEvent', function(arg1, arg2) { \n",
    "    console.log('listener2', arg1, arg2); \n",
    "}); \n",
    "emitter.emit('someEvent', 'arg1 参数', 'arg2 参数'); "
   ]
  },
  {
   "cell_type": "markdown",
   "metadata": {},
   "source": [
    "* EventEmitter提供了多个属性。on用户绑定函数事件，emit属性用于触发一个事件。"
   ]
  },
  {
   "cell_type": "code",
   "execution_count": 13,
   "metadata": {},
   "outputs": [
    {
     "name": "stdout",
     "output_type": "stream",
     "text": [
      "2 个监听器监听连接事件。\n",
      "监听器 listener1 执行。\n",
      "监听器 listener2 执行。\n",
      "listener1 不再受监听。\n",
      "监听器 listener2 执行。\n",
      "1 个监听器监听连接事件。\n",
      "程序执行完毕。\n"
     ]
    }
   ],
   "source": [
    "var events = require('events');\n",
    "var eventEmitter = new events.EventEmitter();\n",
    "\n",
    "// 监听器 #1\n",
    "var listener1 = function listener1() {\n",
    "   console.log('监听器 listener1 执行。');\n",
    "}\n",
    "\n",
    "// 监听器 #2\n",
    "var listener2 = function listener2() {\n",
    "  console.log('监听器 listener2 执行。');\n",
    "}\n",
    "\n",
    "// 绑定 connection 事件，处理函数为 listener1 \n",
    "eventEmitter.addListener('connection', listener1);\n",
    "\n",
    "// 绑定 connection 事件，处理函数为 listener2\n",
    "eventEmitter.on('connection', listener2);\n",
    "\n",
    "var eventListeners = require('events').EventEmitter.listenerCount(eventEmitter,'connection');\n",
    "console.log(eventListeners + \" 个监听器监听连接事件。\");\n",
    "\n",
    "// 处理 connection 事件 \n",
    "eventEmitter.emit('connection');\n",
    "\n",
    "// 移除监绑定的 listener1 函数\n",
    "eventEmitter.removeListener('connection', listener1);\n",
    "console.log(\"listener1 不再受监听。\");\n",
    "\n",
    "// 触发连接事件\n",
    "eventEmitter.emit('connection');\n",
    "\n",
    "eventListeners = require('events').EventEmitter.listenerCount(eventEmitter,'connection');\n",
    "console.log(eventListeners + \" 个监听器监听连接事件。\");\n",
    "\n",
    "console.log(\"程序执行完毕。\");"
   ]
  },
  {
   "cell_type": "markdown",
   "metadata": {},
   "source": [
    "## error事件"
   ]
  },
  {
   "cell_type": "code",
   "execution_count": 14,
   "metadata": {},
   "outputs": [
    {
     "ename": "Error [ERR_UNHANDLED_ERROR]",
     "evalue": "Unhandled error.",
     "output_type": "error",
     "traceback": [
      "events.js:143",
      "      throw err;",
      "      ^",
      "",
      "Error [ERR_UNHANDLED_ERROR]: Unhandled error.",
      "    at EventEmitter.emit (events.js:141:19)",
      "    at evalmachine.<anonymous>:3:9",
      "    at Script.runInThisContext (vm.js:65:33)",
      "    at Object.runInThisContext (vm.js:199:38)",
      "    at run ([eval]:1002:15)",
      "    at onRunRequest ([eval]:829:18)",
      "    at onMessage ([eval]:789:13)",
      "    at process.emit (events.js:160:13)",
      "    at emit (internal/child_process.js:790:12)",
      "    at process._tickCallback (internal/process/next_tick.js:152:19)"
     ]
    }
   ],
   "source": [
    "var events = require('events'); \n",
    "var emitter = new events.EventEmitter(); \n",
    "emitter.emit('error');"
   ]
  },
  {
   "cell_type": "code",
   "execution_count": 2,
   "metadata": {},
   "outputs": [
    {
     "ename": "Error [ERR_UNHANDLED_ERROR]",
     "evalue": "Unhandled error.",
     "output_type": "error",
     "traceback": [
      "events.js:118",
      "    throw err;",
      "    ^",
      "",
      "Error [ERR_UNHANDLED_ERROR]: Unhandled error.",
      "    at EventEmitter.emit (events.js:116:17)",
      "    at evalmachine.<anonymous>:4:9",
      "    at Script.runInThisContext (vm.js:65:33)",
      "    at Object.runInThisContext (vm.js:199:38)",
      "    at run ([eval]:1002:15)",
      "    at onRunRequest ([eval]:829:18)",
      "    at onMessage ([eval]:789:13)",
      "    at process.emit (events.js:127:13)",
      "    at emit (internal/child_process.js:780:12)",
      "    at process._tickCallback (internal/process/next_tick.js:152:19)"
     ]
    }
   ],
   "source": [
    "var events = require('events'); \n",
    "var emitter = new events.EventEmitter(); \n",
    "\n",
    "emitter.emit('error');"
   ]
  },
  {
   "cell_type": "code",
   "execution_count": 3,
   "metadata": {},
   "outputs": [
    {
     "name": "stdout",
     "output_type": "stream",
     "text": [
      "72756e6f6f62\n",
      "cnVub29i\n"
     ]
    }
   ],
   "source": [
    "const buf=Buffer.from('runoob','ascii');\n",
    "console.log(buf.toString('hex'));\n",
    "console.log(buf.toString('base64'));"
   ]
  },
  {
   "cell_type": "code",
   "execution_count": 15,
   "metadata": {},
   "outputs": [
    {
     "name": "stdout",
     "output_type": "stream",
     "text": [
      "写入字节数34\n"
     ]
    }
   ],
   "source": [
    "buf4 = Buffer.alloc(100);\n",
    "len = buf4.write(\"北京市海淀区颐和园路5号\");\n",
    "console.log(\"写入字节数\"+len);"
   ]
  },
  {
   "cell_type": "code",
   "execution_count": null,
   "metadata": {},
   "outputs": [],
   "source": []
  },
  {
   "cell_type": "code",
   "execution_count": null,
   "metadata": {},
   "outputs": [],
   "source": []
  },
  {
   "cell_type": "code",
   "execution_count": null,
   "metadata": {},
   "outputs": [],
   "source": []
  },
  {
   "cell_type": "code",
   "execution_count": null,
   "metadata": {},
   "outputs": [],
   "source": []
  },
  {
   "cell_type": "code",
   "execution_count": null,
   "metadata": {},
   "outputs": [],
   "source": []
  },
  {
   "cell_type": "code",
   "execution_count": null,
   "metadata": {},
   "outputs": [],
   "source": []
  },
  {
   "cell_type": "code",
   "execution_count": null,
   "metadata": {},
   "outputs": [],
   "source": []
  },
  {
   "cell_type": "code",
   "execution_count": null,
   "metadata": {},
   "outputs": [],
   "source": []
  },
  {
   "cell_type": "code",
   "execution_count": null,
   "metadata": {},
   "outputs": [],
   "source": []
  },
  {
   "cell_type": "code",
   "execution_count": null,
   "metadata": {},
   "outputs": [],
   "source": []
  },
  {
   "cell_type": "code",
   "execution_count": null,
   "metadata": {},
   "outputs": [],
   "source": []
  },
  {
   "cell_type": "code",
   "execution_count": null,
   "metadata": {},
   "outputs": [],
   "source": []
  },
  {
   "cell_type": "code",
   "execution_count": null,
   "metadata": {},
   "outputs": [],
   "source": []
  },
  {
   "cell_type": "code",
   "execution_count": null,
   "metadata": {},
   "outputs": [],
   "source": []
  },
  {
   "cell_type": "code",
   "execution_count": null,
   "metadata": {},
   "outputs": [],
   "source": []
  }
 ],
 "metadata": {
  "kernelspec": {
   "display_name": "Javascript (Node.js)",
   "language": "javascript",
   "name": "javascript"
  },
  "language_info": {
   "file_extension": ".js",
   "mimetype": "application/javascript",
   "name": "javascript",
   "version": "9.6.1"
  }
 },
 "nbformat": 4,
 "nbformat_minor": 2
}
